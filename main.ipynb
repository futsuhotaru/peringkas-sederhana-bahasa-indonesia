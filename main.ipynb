{
  "nbformat": 4,
  "nbformat_minor": 0,
  "metadata": {
    "colab": {
      "name": "main.ipynb",
      "provenance": [],
      "collapsed_sections": []
    },
    "kernelspec": {
      "name": "python3",
      "display_name": "Python 3"
    },
    "language_info": {
      "name": "python"
    }
  },
  "cells": [
    {
      "cell_type": "code",
      "metadata": {
        "id": "aRGbmHpg2EKF"
      },
      "source": [
        "from IPython.display import clear_output\n",
        "import ipywidgets as widgets\n",
        "from ipywidgets import Button, Layout, interact, interactive, fixed, interact_manual\n",
        "import time\n",
        "def print_elapsed_time(info_string, sec):\n",
        "  mins = (sec // 60) % 60\n",
        "  hours = sec // 3600\n",
        "  sec = sec % 60\n",
        "  print(info_string + \"{0}h {1}m {2}s\".format(int(hours),int(mins),int(sec)))\n",
        "initial_run = True"
      ],
      "execution_count": null,
      "outputs": []
    },
    {
      "cell_type": "code",
      "metadata": {
        "id": "y2dm5N9FLbzx"
      },
      "source": [
        "start = time.time()\n",
        "if initial_run :\n",
        "  clear_output()\n",
        "  if initial_run :\n",
        "    !pip install transformers --quiet\n",
        "    !pip install transformers[sentencepiece] --quiet\n",
        "    !pip install sentencepiece --quiet\n",
        "    clear_output()\n",
        "\n",
        "    from transformers import T5Tokenizer, T5ForConditionalGeneration\n",
        "\n",
        "    tokenizer = T5Tokenizer.from_pretrained(\"cahya/t5-base-indonesian-summarization-cased\")\n",
        "    model = T5ForConditionalGeneration.from_pretrained(\"cahya/t5-base-indonesian-summarization-cased\")\n",
        "    clear_output()\n",
        "\n",
        "    initial_run_checkpoint = time.time(); ET = initial_run_checkpoint - start\n",
        "    print_elapsed_time(\"Elapsed time: \", ET)\n",
        "\n",
        "    initial_run = False"
      ],
      "execution_count": null,
      "outputs": []
    },
    {
      "cell_type": "code",
      "metadata": {
        "id": "zeAfttEvKUEW"
      },
      "source": [
        "def run_code():\n",
        "  start = time.time()\n",
        "  \n",
        "  ARTICLE_TO_SUMMARIZE = article_widget.value #article_source\n",
        " \n",
        "  min_percentage = (display_n_widget.value/100)\n",
        "  max_percentage = ((display_n_widget.value/100)+0.2)\n",
        "  min_summary_length = int((len(ARTICLE_TO_SUMMARIZE.split()))*min_percentage)\n",
        "  max_summary_length = int((len(ARTICLE_TO_SUMMARIZE.split()))*max_percentage)\n",
        "\n",
        "  print()\n",
        "  print(\"Panjang Artikel: \" + str(len(ARTICLE_TO_SUMMARIZE.split())) + \" kata\")\n",
        "  print(\"Input Persentase Ringkasan: \" + str(display_n_widget.value) + \"%\")\n",
        "  print(\"Sedang membuat ringkasan. Mohon tunggu...\")\n",
        "\n",
        "  input_ids = tokenizer.encode(ARTICLE_TO_SUMMARIZE, return_tensors='pt')\n",
        "  summary_ids = model.generate(input_ids,\n",
        "              min_length=min_summary_length,\n",
        "              max_length=max_summary_length,\n",
        "              num_beams=10,\n",
        "              repetition_penalty=2.5,\n",
        "              length_penalty=1.0,\n",
        "              early_stopping=True,\n",
        "              no_repeat_ngram_size=2,\n",
        "              use_cache=True,\n",
        "              do_sample = True,\n",
        "              temperature = 0.8,\n",
        "              top_k = 50,\n",
        "              top_p = 0.95)\n",
        "\n",
        "  summary_text = tokenizer.decode(summary_ids[0], skip_special_tokens=True)\n",
        "  clear_output()\n",
        "  summary_widget = widgets.Textarea(value=summary_text,description='Summary:',disabled=False,layout=Layout(width='50%', height='80px'))\n",
        "  display(summary_widget)\n",
        "\n",
        "  print()\n",
        "  print(\"Hasil Program\")\n",
        "  print(\"Panjang Artikel: \" + str(len(ARTICLE_TO_SUMMARIZE.split())) + \" kata\")\n",
        "  print(\"Panjang Ringkasan: \" + str(len(summary_text.split())) + \" kata\")\n",
        "  \n",
        "  checkpoint = time.time(); ET = checkpoint - start\n",
        "  print_elapsed_time(\"Total waktu proses: \", ET)\n",
        "\n",
        "def display_all_widgets(article_widget, display_n_widget):\n",
        "  row_1_widget_list = widgets.HBox([article_widget, display_n_widget],layout=Layout(height='130px')); display(row_1_widget_list)\n",
        "  interact_manual(run_code)"
      ],
      "execution_count": null,
      "outputs": []
    },
    {
      "cell_type": "code",
      "metadata": {
        "id": "UPPPO5Yw2CXI"
      },
      "source": [
        "article_widget = widgets.Textarea(value='Masukan Artikel Disini',placeholder='(insert word here)',description='Artikel:',disabled=False,layout=Layout(width='50%', height='120px'))\n",
        "display_n_widget = widgets.IntSlider(min=5, max=50, step=5, description='Summary %:', value=10)\n",
        "\n",
        "display_all_widgets(article_widget, display_n_widget)"
      ],
      "execution_count": null,
      "outputs": []
    }
  ]
}